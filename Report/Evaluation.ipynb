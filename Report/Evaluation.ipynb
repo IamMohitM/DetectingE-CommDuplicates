{
 "cells": [
  {
   "cell_type": "code",
   "execution_count": 20,
   "metadata": {},
   "outputs": [],
   "source": [
    "import pandas as pd\n",
    "import numpy as np\n",
    "import pickle, json"
   ]
  },
  {
   "cell_type": "code",
   "execution_count": 11,
   "metadata": {},
   "outputs": [
    {
     "data": {
      "text/plain": [
       "(347713, 31)"
      ]
     },
     "execution_count": 11,
     "metadata": {},
     "output_type": "execute_result"
    }
   ],
   "source": [
    "df = pd.read_csv('Only Tops Data.csv')\n",
    "df.shape"
   ]
  },
  {
   "cell_type": "code",
   "execution_count": 23,
   "metadata": {},
   "outputs": [],
   "source": [
    "with open(r'Results.json', 'r') as f:\n",
    "    results = json.load(f)"
   ]
  },
  {
   "cell_type": "code",
   "execution_count": 34,
   "metadata": {},
   "outputs": [],
   "source": [
    "def print_urls(key,):\n",
    "    try:\n",
    "        duplicates = results[key]\n",
    "        for url in df.loc[df.productId.isin([key]+duplicates),'imageUrl'].values.tolist():\n",
    "            print(url)\n",
    "    except KeyError:\n",
    "        print('Wrong key')\n",
    "          "
   ]
  },
  {
   "cell_type": "markdown",
   "metadata": {},
   "source": [
    "Try: `TOPECPW3HFTYGYPT`, `TOPECPW3HJYKZHXQ`, `TOPEJYFS8DPHTYP3`, `TOPERS28QPJDUV6X`, `TOPERS3YGEH4UHHE`, `TOPEEJGKZQPB3H68`, `TOPEFFDFGUPTPYFT`"
   ]
  },
  {
   "cell_type": "code",
   "execution_count": 35,
   "metadata": {},
   "outputs": [
    {
     "name": "stdout",
     "output_type": "stream",
     "text": [
      "http://img.fkcdn.com/image/top/k/a/y/1-1-27wtt6001101-27ashwood-free-original-imaecn7xtm7srryb.jpeg\n",
      "http://img.fkcdn.com/image/top/a/c/g/1-1-27wtt6000801-27ashwood-free-original-imaecn7xc8njjkag.jpeg\n",
      "http://img.fkcdn.com/image/top/j/h/u/1-1-27wtt6001001-27ashwood-free-original-imaecn7xzxzb3mq2.jpeg\n",
      "http://img.fkcdn.com/image/top/4/b/n/1-1-27wtt6001202-27ashwood-free-original-imaecn7xqkbzu7wz.jpeg\n",
      "http://img.fkcdn.com/image/top/y/e/c/1-1-27wtt6001117-27ashwood-free-original-imaecn7xfhqgxruh.jpeg\n",
      "http://img.fkcdn.com/image/top/g/h/r/1-1-27wtt6001102-27ashwood-free-original-imaecn7xftyqeuzh.jpeg\n",
      "http://img.fkcdn.com/image/top/y/p/t/1-1-27wtt6001201-27ashwood-free-original-imaecn7xzcz4tvcg.jpeg\n",
      "http://img.fkcdn.com/image/top/y/s/h/1-1-27wtt6000802-27ashwood-free-original-imaecn7xkbzsruhp.jpeg\n"
     ]
    }
   ],
   "source": [
    "print_urls('TOPECPW3HFTYGYPT')"
   ]
  },
  {
   "cell_type": "code",
   "execution_count": null,
   "metadata": {},
   "outputs": [],
   "source": []
  }
 ],
 "metadata": {
  "kernelspec": {
   "display_name": "Python 3",
   "language": "python",
   "name": "python3"
  },
  "language_info": {
   "codemirror_mode": {
    "name": "ipython",
    "version": 3
   },
   "file_extension": ".py",
   "mimetype": "text/x-python",
   "name": "python",
   "nbconvert_exporter": "python",
   "pygments_lexer": "ipython3",
   "version": "3.6.5"
  }
 },
 "nbformat": 4,
 "nbformat_minor": 2
}
