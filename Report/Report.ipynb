{
 "cells": [
  {
   "cell_type": "markdown",
   "metadata": {},
   "source": [
    "# Duplicate Product Detection from E-commerce Data"
   ]
  },
  {
   "cell_type": "markdown",
   "metadata": {},
   "source": [
    "## Preview \n",
    "\n",
    "This notebook will explain the entire process of the project from the data prepocessing to intuition behind decisions taken to find duplicates. Below is the index:\n",
    "\n",
    "1. [Overview](#Overview)\n",
    "2. [Data Exploration and Cleaning](#Exploratory-Analysis-and-Data-Cleaning)\n",
    "3. [Finding Duplicates using Locality Sensitive Hashing and Cosine Similarity of Images](#Finding-Duplicates-using-Locality-Sensitive-Hashing-and-Cosine-Similarity)\n",
    "4. [Results](#Results)\n",
    "5. [Further Improvements](#Further-Improvements)\n",
    "6. [References](#References)\n"
   ]
  },
  {
   "cell_type": "markdown",
   "metadata": {},
   "source": [
    "## Overview\n",
    "\n",
    "With the number of sellers increasing on e-commerce platforms for a wide range of products, there is a need to filter out the redundancies, so that customers can have an easy experience while shopping online. These redundancies can be on the basis of product colour, product size, product design or product nomenclature. While removing these duplicates, it is essential to keep in mind the similarity quotients and achieve the accurate results. I have used Locality Sensitive Hashing (LSH), VGG-19 Neural Network and Cosine Similarity to identify redundancies in the dataset. This efficient cataloguing of products aims at providing the customer a user friendly and smooth experience as they shop for their favourite products online!\n",
    "\n",
    "\n",
    "Below points attribute to the definition of duplicate products:\n",
    "\n",
    "> A product is duplicate if it has the same image.\n",
    "\n",
    "> Same products can have different prices, sizes, colors and sellers.\n",
    "\n",
    "> A product can be duplicate only within the same brand.\n",
    "\n"
   ]
  },
  {
   "cell_type": "markdown",
   "metadata": {},
   "source": [
    "## Exploratory Analysis and Data Cleaning"
   ]
  },
  {
   "cell_type": "code",
   "execution_count": 5,
   "metadata": {},
   "outputs": [],
   "source": [
    "import os, string, re\n",
    "import pandas as pd\n",
    "import numpy as np\n",
    "import matplotlib.pyplot as plt\n",
    "\n",
    "from sklearn.metrics.pairwise import cosine_similarity\n",
    "from sklearn.feature_extraction.text import TfidfVectorizer\n",
    "%matplotlib inline\n",
    "\n",
    "pd.set_option('max_columns', 35)"
   ]
  },
  {
   "cell_type": "code",
   "execution_count": 6,
   "metadata": {},
   "outputs": [
    {
     "name": "stderr",
     "output_type": "stream",
     "text": [
      "C:\\Users\\mohit.motwani\\AppData\\Local\\Continuum\\anaconda3\\lib\\site-packages\\IPython\\core\\interactiveshell.py:2785: DtypeWarning: Columns (19,29,30) have mixed types. Specify dtype option on import or set low_memory=False.\n",
      "  interactivity=interactivity, compiler=compiler, result=result)\n"
     ]
    },
    {
     "data": {
      "text/plain": [
       "(4057189, 32)"
      ]
     },
     "execution_count": 6,
     "metadata": {},
     "output_type": "execute_result"
    }
   ],
   "source": [
    "df = pd.read_csv('2oq-c1r.zip')\n",
    "df.shape"
   ]
  },
  {
   "cell_type": "code",
   "execution_count": 7,
   "metadata": {},
   "outputs": [
    {
     "data": {
      "text/plain": [
       "Index(['productId', 'title', 'description', 'imageUrlStr', 'mrp',\n",
       "       'sellingPrice', 'specialPrice', 'productUrl', 'categories',\n",
       "       'productBrand', 'productFamily', 'inStock', 'codAvailable', 'offers',\n",
       "       'discount', 'shippingCharges', 'deliveryTime', 'size', 'color',\n",
       "       'sizeUnit', 'storage', 'displaySize', 'keySpecsStr', 'detailedSpecsStr',\n",
       "       'specificationList', 'sellerName', 'sellerAverageRating',\n",
       "       'sellerNoOfRatings', 'sellerNoOfReviews', 'sleeve', 'neck', 'idealFor'],\n",
       "      dtype='object')"
      ]
     },
     "execution_count": 7,
     "metadata": {},
     "output_type": "execute_result"
    }
   ],
   "source": [
    "df.columns"
   ]
  },
  {
   "cell_type": "code",
   "execution_count": 8,
   "metadata": {},
   "outputs": [
    {
     "data": {
      "text/plain": [
       "(648722, 32)"
      ]
     },
     "execution_count": 8,
     "metadata": {},
     "output_type": "execute_result"
    }
   ],
   "source": [
    "df = df.loc[df.categories.fillna('').str.contains('Top')]\n",
    "df.shape"
   ]
  },
  {
   "cell_type": "code",
   "execution_count": 9,
   "metadata": {},
   "outputs": [
    {
     "name": "stdout",
     "output_type": "stream",
     "text": [
      "<class 'pandas.core.frame.DataFrame'>\n",
      "Int64Index: 648722 entries, 18237 to 4026363\n",
      "Data columns (total 32 columns):\n",
      "productId              648722 non-null object\n",
      "title                  648717 non-null object\n",
      "description            418353 non-null object\n",
      "imageUrlStr            647463 non-null object\n",
      "mrp                    648722 non-null float64\n",
      "sellingPrice           644333 non-null float64\n",
      "specialPrice           644333 non-null float64\n",
      "productUrl             648722 non-null object\n",
      "categories             648722 non-null object\n",
      "productBrand           648719 non-null object\n",
      "productFamily          642954 non-null object\n",
      "inStock                648722 non-null bool\n",
      "codAvailable           648722 non-null bool\n",
      "offers                 0 non-null float64\n",
      "discount               648630 non-null float64\n",
      "shippingCharges        642961 non-null float64\n",
      "deliveryTime           307966 non-null object\n",
      "size                   648711 non-null object\n",
      "color                  645033 non-null object\n",
      "sizeUnit               10302 non-null object\n",
      "storage                0 non-null float64\n",
      "displaySize            0 non-null float64\n",
      "keySpecsStr            640859 non-null object\n",
      "detailedSpecsStr       638256 non-null object\n",
      "specificationList      0 non-null float64\n",
      "sellerName             642954 non-null object\n",
      "sellerAverageRating    648722 non-null float64\n",
      "sellerNoOfRatings      648722 non-null int64\n",
      "sellerNoOfReviews      648722 non-null int64\n",
      "sleeve                 635689 non-null object\n",
      "neck                   366718 non-null object\n",
      "idealFor               0 non-null float64\n",
      "dtypes: bool(2), float64(11), int64(2), object(17)\n",
      "memory usage: 154.7+ MB\n"
     ]
    }
   ],
   "source": [
    "df.info()"
   ]
  },
  {
   "cell_type": "markdown",
   "metadata": {},
   "source": [
    "> There are few columns with only nan values. These need to be removed."
   ]
  },
  {
   "cell_type": "code",
   "execution_count": 10,
   "metadata": {},
   "outputs": [
    {
     "data": {
      "text/plain": [
       "(648722, 27)"
      ]
     },
     "execution_count": 10,
     "metadata": {},
     "output_type": "execute_result"
    }
   ],
   "source": [
    "df = df.dropna(how='all', axis = 1)\n",
    "df.shape"
   ]
  },
  {
   "cell_type": "code",
   "execution_count": 11,
   "metadata": {},
   "outputs": [
    {
     "data": {
      "text/html": [
       "<div>\n",
       "<style scoped>\n",
       "    .dataframe tbody tr th:only-of-type {\n",
       "        vertical-align: middle;\n",
       "    }\n",
       "\n",
       "    .dataframe tbody tr th {\n",
       "        vertical-align: top;\n",
       "    }\n",
       "\n",
       "    .dataframe thead th {\n",
       "        text-align: right;\n",
       "    }\n",
       "</style>\n",
       "<table border=\"1\" class=\"dataframe\">\n",
       "  <thead>\n",
       "    <tr style=\"text-align: right;\">\n",
       "      <th></th>\n",
       "      <th>productId</th>\n",
       "      <th>title</th>\n",
       "      <th>description</th>\n",
       "      <th>imageUrlStr</th>\n",
       "      <th>mrp</th>\n",
       "      <th>sellingPrice</th>\n",
       "      <th>specialPrice</th>\n",
       "      <th>productUrl</th>\n",
       "      <th>categories</th>\n",
       "      <th>productBrand</th>\n",
       "      <th>productFamily</th>\n",
       "      <th>inStock</th>\n",
       "      <th>codAvailable</th>\n",
       "      <th>discount</th>\n",
       "      <th>shippingCharges</th>\n",
       "      <th>deliveryTime</th>\n",
       "      <th>size</th>\n",
       "      <th>color</th>\n",
       "      <th>sizeUnit</th>\n",
       "      <th>keySpecsStr</th>\n",
       "      <th>detailedSpecsStr</th>\n",
       "      <th>sellerName</th>\n",
       "      <th>sellerAverageRating</th>\n",
       "      <th>sellerNoOfRatings</th>\n",
       "      <th>sellerNoOfReviews</th>\n",
       "      <th>sleeve</th>\n",
       "      <th>neck</th>\n",
       "    </tr>\n",
       "  </thead>\n",
       "  <tbody>\n",
       "    <tr>\n",
       "      <th>18237</th>\n",
       "      <td>TUNE9CG3ZHRAYBFY</td>\n",
       "      <td>Vea Kupia Printed Women's Tunic</td>\n",
       "      <td>NaN</td>\n",
       "      <td>http://img.fkcdn.com/image/tunic/b/f/y/1-1-342...</td>\n",
       "      <td>1399.0</td>\n",
       "      <td>802.0</td>\n",
       "      <td>761.0</td>\n",
       "      <td>http://dl.flipkart.com/dl/vea-kupia-printed-wo...</td>\n",
       "      <td>Apparels&gt;Women&gt;Western Wear&gt;Shirts, Tops &amp; Tun...</td>\n",
       "      <td>Vea Kupia</td>\n",
       "      <td>TUNE9CG3CDTCKVHK,TUNE9CG3GT2KMM2R</td>\n",
       "      <td>False</td>\n",
       "      <td>True</td>\n",
       "      <td>42.0</td>\n",
       "      <td>0.0</td>\n",
       "      <td>NaN</td>\n",
       "      <td>L</td>\n",
       "      <td>Black</td>\n",
       "      <td>NaN</td>\n",
       "      <td>Occasion: Casual;Fabric: Georgette;Hemline: Hi...</td>\n",
       "      <td>Occasion: Casual;Fabric: Georgette;Hemline: Hi...</td>\n",
       "      <td>Shruti</td>\n",
       "      <td>4.1</td>\n",
       "      <td>542</td>\n",
       "      <td>4</td>\n",
       "      <td>Full Sleeve</td>\n",
       "      <td>Shirt Collar</td>\n",
       "    </tr>\n",
       "    <tr>\n",
       "      <th>18238</th>\n",
       "      <td>TUNE9CG3CDTCKVHK</td>\n",
       "      <td>Vea Kupia Printed Women's Tunic</td>\n",
       "      <td>NaN</td>\n",
       "      <td>http://img.fkcdn.com/image/tunic/b/f/y/1-1-342...</td>\n",
       "      <td>1399.0</td>\n",
       "      <td>802.0</td>\n",
       "      <td>761.0</td>\n",
       "      <td>http://dl.flipkart.com/dl/vea-kupia-printed-wo...</td>\n",
       "      <td>Apparels&gt;Women&gt;Western Wear&gt;Shirts, Tops &amp; Tun...</td>\n",
       "      <td>Vea Kupia</td>\n",
       "      <td>TUNE9CG3GT2KMM2R,TUNE9CG3ZHRAYBFY</td>\n",
       "      <td>False</td>\n",
       "      <td>True</td>\n",
       "      <td>42.0</td>\n",
       "      <td>0.0</td>\n",
       "      <td>NaN</td>\n",
       "      <td>M</td>\n",
       "      <td>Black</td>\n",
       "      <td>NaN</td>\n",
       "      <td>Occasion: Casual;Fabric: Georgette;Hemline: Hi...</td>\n",
       "      <td>Occasion: Casual;Fabric: Georgette;Hemline: Hi...</td>\n",
       "      <td>Shruti</td>\n",
       "      <td>4.1</td>\n",
       "      <td>542</td>\n",
       "      <td>4</td>\n",
       "      <td>Full Sleeve</td>\n",
       "      <td>Shirt Collar</td>\n",
       "    </tr>\n",
       "    <tr>\n",
       "      <th>18239</th>\n",
       "      <td>TUNEYFGDFZTBSDPZ</td>\n",
       "      <td>U&amp;F Solid Women's Tunic</td>\n",
       "      <td>If you are hip, stylish, with loads of attitud...</td>\n",
       "      <td>http://img.fkcdn.com/image/tunic/n/b/u/14193-2...</td>\n",
       "      <td>1299.0</td>\n",
       "      <td>469.0</td>\n",
       "      <td>445.0</td>\n",
       "      <td>http://dl.flipkart.com/dl/u-f-solid-women-s-tu...</td>\n",
       "      <td>Apparels&gt;Women&gt;Western Wear&gt;Shirts, Tops &amp; Tun...</td>\n",
       "      <td>U&amp;F</td>\n",
       "      <td>TUNEYFGBATZHYCV7,TUNEYFGBG7ZDYNBU,TUNEYFGCAFA8...</td>\n",
       "      <td>False</td>\n",
       "      <td>True</td>\n",
       "      <td>66.0</td>\n",
       "      <td>0.0</td>\n",
       "      <td>NaN</td>\n",
       "      <td>L</td>\n",
       "      <td>Aqua</td>\n",
       "      <td>NaN</td>\n",
       "      <td>Occasion: Casual;Fabric: Cotton;Sleeve: 3/4th ...</td>\n",
       "      <td>Occasion: Casual;Fabric: Cotton;Sleeve: 3/4th ...</td>\n",
       "      <td>Sunil Jain</td>\n",
       "      <td>3.8</td>\n",
       "      <td>997</td>\n",
       "      <td>8</td>\n",
       "      <td>3/4th Sleeve</td>\n",
       "      <td>NaN</td>\n",
       "    </tr>\n",
       "    <tr>\n",
       "      <th>18240</th>\n",
       "      <td>TUNEYFGDUW3WSS5Z</td>\n",
       "      <td>U&amp;F Solid Women's Tunic</td>\n",
       "      <td>If you are hip, stylish, with loads of attitud...</td>\n",
       "      <td>http://img.fkcdn.com/image/tunic/n/b/u/14193-2...</td>\n",
       "      <td>1299.0</td>\n",
       "      <td>469.0</td>\n",
       "      <td>469.0</td>\n",
       "      <td>http://dl.flipkart.com/dl/u-f-solid-women-s-tu...</td>\n",
       "      <td>Apparels&gt;Women&gt;Western Wear&gt;Shirts, Tops &amp; Tun...</td>\n",
       "      <td>U&amp;F</td>\n",
       "      <td>TUNEYFGBATZHYCV7,TUNEYFGBG7ZDYNBU,TUNEYFGCAFA8...</td>\n",
       "      <td>False</td>\n",
       "      <td>True</td>\n",
       "      <td>63.0</td>\n",
       "      <td>0.0</td>\n",
       "      <td>NaN</td>\n",
       "      <td>S</td>\n",
       "      <td>Aqua</td>\n",
       "      <td>NaN</td>\n",
       "      <td>Occasion: Casual;Fabric: Cotton;Sleeve: 3/4th ...</td>\n",
       "      <td>Occasion: Casual;Fabric: Cotton;Sleeve: 3/4th ...</td>\n",
       "      <td>Sunil Jain</td>\n",
       "      <td>3.8</td>\n",
       "      <td>999</td>\n",
       "      <td>8</td>\n",
       "      <td>3/4th Sleeve</td>\n",
       "      <td>NaN</td>\n",
       "    </tr>\n",
       "    <tr>\n",
       "      <th>18241</th>\n",
       "      <td>TUNEYFGBEKUYYXKZ</td>\n",
       "      <td>U&amp;F Solid Women's Tunic</td>\n",
       "      <td>If you are hip, stylish, with loads of attitud...</td>\n",
       "      <td>http://img.fkcdn.com/image/tunic/h/f/j/14190-6...</td>\n",
       "      <td>1299.0</td>\n",
       "      <td>379.0</td>\n",
       "      <td>379.0</td>\n",
       "      <td>http://dl.flipkart.com/dl/u-f-solid-women-s-tu...</td>\n",
       "      <td>Apparels&gt;Women&gt;Western Wear&gt;Shirts, Tops &amp; Tun...</td>\n",
       "      <td>U&amp;F</td>\n",
       "      <td>TUNEYFGB4MXJK2KV,TUNEYFGB6ZKK5BP4,TUNEYFGBF5GR...</td>\n",
       "      <td>False</td>\n",
       "      <td>True</td>\n",
       "      <td>70.0</td>\n",
       "      <td>0.0</td>\n",
       "      <td>NaN</td>\n",
       "      <td>M</td>\n",
       "      <td>Olive Green</td>\n",
       "      <td>NaN</td>\n",
       "      <td>Occasion: Casual;Fabric: Cotton;Sleeve: 3/4th ...</td>\n",
       "      <td>Occasion: Casual;Fabric: Cotton;Sleeve: 3/4th ...</td>\n",
       "      <td>Sunil Jain</td>\n",
       "      <td>3.8</td>\n",
       "      <td>999</td>\n",
       "      <td>8</td>\n",
       "      <td>3/4th Sleeve</td>\n",
       "      <td>NaN</td>\n",
       "    </tr>\n",
       "  </tbody>\n",
       "</table>\n",
       "</div>"
      ],
      "text/plain": [
       "              productId                            title  \\\n",
       "18237  TUNE9CG3ZHRAYBFY  Vea Kupia Printed Women's Tunic   \n",
       "18238  TUNE9CG3CDTCKVHK  Vea Kupia Printed Women's Tunic   \n",
       "18239  TUNEYFGDFZTBSDPZ          U&F Solid Women's Tunic   \n",
       "18240  TUNEYFGDUW3WSS5Z          U&F Solid Women's Tunic   \n",
       "18241  TUNEYFGBEKUYYXKZ          U&F Solid Women's Tunic   \n",
       "\n",
       "                                             description  \\\n",
       "18237                                                NaN   \n",
       "18238                                                NaN   \n",
       "18239  If you are hip, stylish, with loads of attitud...   \n",
       "18240  If you are hip, stylish, with loads of attitud...   \n",
       "18241  If you are hip, stylish, with loads of attitud...   \n",
       "\n",
       "                                             imageUrlStr     mrp  \\\n",
       "18237  http://img.fkcdn.com/image/tunic/b/f/y/1-1-342...  1399.0   \n",
       "18238  http://img.fkcdn.com/image/tunic/b/f/y/1-1-342...  1399.0   \n",
       "18239  http://img.fkcdn.com/image/tunic/n/b/u/14193-2...  1299.0   \n",
       "18240  http://img.fkcdn.com/image/tunic/n/b/u/14193-2...  1299.0   \n",
       "18241  http://img.fkcdn.com/image/tunic/h/f/j/14190-6...  1299.0   \n",
       "\n",
       "       sellingPrice  specialPrice  \\\n",
       "18237         802.0         761.0   \n",
       "18238         802.0         761.0   \n",
       "18239         469.0         445.0   \n",
       "18240         469.0         469.0   \n",
       "18241         379.0         379.0   \n",
       "\n",
       "                                              productUrl  \\\n",
       "18237  http://dl.flipkart.com/dl/vea-kupia-printed-wo...   \n",
       "18238  http://dl.flipkart.com/dl/vea-kupia-printed-wo...   \n",
       "18239  http://dl.flipkart.com/dl/u-f-solid-women-s-tu...   \n",
       "18240  http://dl.flipkart.com/dl/u-f-solid-women-s-tu...   \n",
       "18241  http://dl.flipkart.com/dl/u-f-solid-women-s-tu...   \n",
       "\n",
       "                                              categories productBrand  \\\n",
       "18237  Apparels>Women>Western Wear>Shirts, Tops & Tun...    Vea Kupia   \n",
       "18238  Apparels>Women>Western Wear>Shirts, Tops & Tun...    Vea Kupia   \n",
       "18239  Apparels>Women>Western Wear>Shirts, Tops & Tun...          U&F   \n",
       "18240  Apparels>Women>Western Wear>Shirts, Tops & Tun...          U&F   \n",
       "18241  Apparels>Women>Western Wear>Shirts, Tops & Tun...          U&F   \n",
       "\n",
       "                                           productFamily  inStock  \\\n",
       "18237                  TUNE9CG3CDTCKVHK,TUNE9CG3GT2KMM2R    False   \n",
       "18238                  TUNE9CG3GT2KMM2R,TUNE9CG3ZHRAYBFY    False   \n",
       "18239  TUNEYFGBATZHYCV7,TUNEYFGBG7ZDYNBU,TUNEYFGCAFA8...    False   \n",
       "18240  TUNEYFGBATZHYCV7,TUNEYFGBG7ZDYNBU,TUNEYFGCAFA8...    False   \n",
       "18241  TUNEYFGB4MXJK2KV,TUNEYFGB6ZKK5BP4,TUNEYFGBF5GR...    False   \n",
       "\n",
       "       codAvailable  discount  shippingCharges deliveryTime size        color  \\\n",
       "18237          True      42.0              0.0          NaN    L        Black   \n",
       "18238          True      42.0              0.0          NaN    M        Black   \n",
       "18239          True      66.0              0.0          NaN    L         Aqua   \n",
       "18240          True      63.0              0.0          NaN    S         Aqua   \n",
       "18241          True      70.0              0.0          NaN    M  Olive Green   \n",
       "\n",
       "      sizeUnit                                        keySpecsStr  \\\n",
       "18237      NaN  Occasion: Casual;Fabric: Georgette;Hemline: Hi...   \n",
       "18238      NaN  Occasion: Casual;Fabric: Georgette;Hemline: Hi...   \n",
       "18239      NaN  Occasion: Casual;Fabric: Cotton;Sleeve: 3/4th ...   \n",
       "18240      NaN  Occasion: Casual;Fabric: Cotton;Sleeve: 3/4th ...   \n",
       "18241      NaN  Occasion: Casual;Fabric: Cotton;Sleeve: 3/4th ...   \n",
       "\n",
       "                                        detailedSpecsStr  sellerName  \\\n",
       "18237  Occasion: Casual;Fabric: Georgette;Hemline: Hi...      Shruti   \n",
       "18238  Occasion: Casual;Fabric: Georgette;Hemline: Hi...      Shruti   \n",
       "18239  Occasion: Casual;Fabric: Cotton;Sleeve: 3/4th ...  Sunil Jain   \n",
       "18240  Occasion: Casual;Fabric: Cotton;Sleeve: 3/4th ...  Sunil Jain   \n",
       "18241  Occasion: Casual;Fabric: Cotton;Sleeve: 3/4th ...  Sunil Jain   \n",
       "\n",
       "       sellerAverageRating  sellerNoOfRatings  sellerNoOfReviews  \\\n",
       "18237                  4.1                542                  4   \n",
       "18238                  4.1                542                  4   \n",
       "18239                  3.8                997                  8   \n",
       "18240                  3.8                999                  8   \n",
       "18241                  3.8                999                  8   \n",
       "\n",
       "             sleeve          neck  \n",
       "18237   Full Sleeve  Shirt Collar  \n",
       "18238   Full Sleeve  Shirt Collar  \n",
       "18239  3/4th Sleeve           NaN  \n",
       "18240  3/4th Sleeve           NaN  \n",
       "18241  3/4th Sleeve           NaN  "
      ]
     },
     "execution_count": 11,
     "metadata": {},
     "output_type": "execute_result"
    }
   ],
   "source": [
    "df.head()"
   ]
  },
  {
   "cell_type": "code",
   "execution_count": 12,
   "metadata": {},
   "outputs": [
    {
     "data": {
      "text/plain": [
       "428.0"
      ]
     },
     "execution_count": 12,
     "metadata": {},
     "output_type": "execute_result"
    }
   ],
   "source": [
    "#Counting maximum productFamily values in a row\n",
    "df.productFamily.str.count(',').max()+1"
   ]
  },
  {
   "cell_type": "code",
   "execution_count": 13,
   "metadata": {},
   "outputs": [
    {
     "data": {
      "text/plain": [
       "productId                   0\n",
       "title                       5\n",
       "description            230369\n",
       "imageUrlStr              1259\n",
       "mrp                         0\n",
       "sellingPrice             4389\n",
       "specialPrice             4389\n",
       "productUrl                  0\n",
       "categories                  0\n",
       "productBrand                3\n",
       "productFamily            5768\n",
       "inStock                     0\n",
       "codAvailable                0\n",
       "discount                   92\n",
       "shippingCharges          5761\n",
       "deliveryTime           340756\n",
       "size                       11\n",
       "color                    3689\n",
       "sizeUnit               638420\n",
       "keySpecsStr              7863\n",
       "detailedSpecsStr        10466\n",
       "sellerName               5768\n",
       "sellerAverageRating         0\n",
       "sellerNoOfRatings           0\n",
       "sellerNoOfReviews           0\n",
       "sleeve                  13033\n",
       "neck                   282004\n",
       "dtype: int64"
      ]
     },
     "execution_count": 13,
     "metadata": {},
     "output_type": "execute_result"
    }
   ],
   "source": [
    "df.isnull().sum()"
   ]
  },
  {
   "cell_type": "markdown",
   "metadata": {},
   "source": [
    "> Size unit has too many null values"
   ]
  },
  {
   "cell_type": "code",
   "execution_count": 14,
   "metadata": {},
   "outputs": [
    {
     "data": {
      "text/plain": [
       "637976"
      ]
     },
     "execution_count": 14,
     "metadata": {},
     "output_type": "execute_result"
    }
   ],
   "source": [
    "(df['keySpecsStr']==df['detailedSpecsStr']).sum()"
   ]
  },
  {
   "cell_type": "markdown",
   "metadata": {},
   "source": [
    "> keySpecsStr and detailedSpecsStr have same values in most rows. detailedSpecsStr has higher number of null values"
   ]
  },
  {
   "cell_type": "code",
   "execution_count": 15,
   "metadata": {},
   "outputs": [
    {
     "data": {
      "text/plain": [
       "18237     Full Sleeve\n",
       "18238     Full Sleeve\n",
       "18239    3/4th Sleeve\n",
       "18240    3/4th Sleeve\n",
       "18241    3/4th Sleeve\n",
       "Name: sleeve, dtype: object"
      ]
     },
     "execution_count": 15,
     "metadata": {},
     "output_type": "execute_result"
    }
   ],
   "source": [
    "df.iloc[:5]['sleeve']"
   ]
  },
  {
   "cell_type": "code",
   "execution_count": 16,
   "metadata": {},
   "outputs": [
    {
     "data": {
      "text/plain": [
       "[['Shirt Collar',\n",
       "  'Occasion: Casual;Fabric: Georgette;Hemline: High-low;Sleeve: Full Sleeve;Pattern: Printed'],\n",
       " ['Shirt Collar',\n",
       "  'Occasion: Casual;Fabric: Georgette;Hemline: High-low;Sleeve: Full Sleeve;Pattern: Printed'],\n",
       " ['Fashion Neck',\n",
       "  'Occasion: Casual;Fabric: 100% Polyester;Sleeve: 3/4th Sleeve;Pattern: Solid'],\n",
       " ['Constructed Stitch design on neck',\n",
       "  'Occasion: Casual;Fabric: 100% Khadi Cotton;Hemline: High-low;Sleeve: Fashion Sleeve;Pattern: Solid'],\n",
       " ['Wide scoop neck',\n",
       "  'Occasion: Casual;Fabric: 100% Khadi Cotton;Hemline: Diagonal;Sleeve: Half Sleeve;Pattern: Floral Print']]"
      ]
     },
     "execution_count": 16,
     "metadata": {},
     "output_type": "execute_result"
    }
   ],
   "source": [
    "df.loc[df.neck.notnull(), ['neck', 'keySpecsStr']].head().values.tolist()"
   ]
  },
  {
   "cell_type": "markdown",
   "metadata": {},
   "source": [
    "The neck column describes the similar information to keySpecsStr. We can combine the information of both columns into a single one."
   ]
  },
  {
   "cell_type": "code",
   "execution_count": 17,
   "metadata": {},
   "outputs": [
    {
     "data": {
      "text/plain": [
       "[['Shirt Collar',\n",
       "  'Occasion: Casual;Fabric: Georgette;Hemline: High-low;Sleeve: Full Sleeve;Pattern: Printed;Neck: Shirt Collar'],\n",
       " ['Shirt Collar',\n",
       "  'Occasion: Casual;Fabric: Georgette;Hemline: High-low;Sleeve: Full Sleeve;Pattern: Printed;Neck: Shirt Collar'],\n",
       " ['Fashion Neck',\n",
       "  'Occasion: Casual;Fabric: 100% Polyester;Sleeve: 3/4th Sleeve;Pattern: Solid;Neck: Fashion Neck'],\n",
       " ['Constructed Stitch design on neck',\n",
       "  'Occasion: Casual;Fabric: 100% Khadi Cotton;Hemline: High-low;Sleeve: Fashion Sleeve;Pattern: Solid;Neck: Constructed Stitch design on neck'],\n",
       " ['Wide scoop neck',\n",
       "  'Occasion: Casual;Fabric: 100% Khadi Cotton;Hemline: Diagonal;Sleeve: Half Sleeve;Pattern: Floral Print;Neck: Wide scoop neck']]"
      ]
     },
     "execution_count": 17,
     "metadata": {},
     "output_type": "execute_result"
    }
   ],
   "source": [
    "concat_neck = df['keySpecsStr']+';Neck: '+df['neck']\n",
    "df['keySpecsStr'] = np.where(df.neck.notnull(), concat_neck, df['keySpecsStr'])\n",
    "df.loc[df.neck.notnull(), ['neck', 'keySpecsStr']].head().values.tolist()"
   ]
  },
  {
   "cell_type": "markdown",
   "metadata": {},
   "source": [
    "The `keySpecsStr` is in a dictionary-like format. Let's only extract the values to remove redundancy from this column as it contains valuable information to differentiate products"
   ]
  },
  {
   "cell_type": "code",
   "execution_count": 18,
   "metadata": {},
   "outputs": [
    {
     "data": {
      "text/plain": [
       "(639864, 8)"
      ]
     },
     "execution_count": 18,
     "metadata": {},
     "output_type": "execute_result"
    }
   ],
   "source": [
    "key_df = df['keySpecsStr'].str.extractall(':\\s?([A-Za-z0-9\\s/\\-%]*)').unstack().fillna('')\n",
    "key_df.shape"
   ]
  },
  {
   "cell_type": "code",
   "execution_count": 19,
   "metadata": {},
   "outputs": [
    {
     "data": {
      "text/html": [
       "<div>\n",
       "<style scoped>\n",
       "    .dataframe tbody tr th:only-of-type {\n",
       "        vertical-align: middle;\n",
       "    }\n",
       "\n",
       "    .dataframe tbody tr th {\n",
       "        vertical-align: top;\n",
       "    }\n",
       "\n",
       "    .dataframe thead tr th {\n",
       "        text-align: left;\n",
       "    }\n",
       "</style>\n",
       "<table border=\"1\" class=\"dataframe\">\n",
       "  <thead>\n",
       "    <tr>\n",
       "      <th></th>\n",
       "      <th colspan=\"8\" halign=\"left\">0</th>\n",
       "    </tr>\n",
       "    <tr>\n",
       "      <th>match</th>\n",
       "      <th>0</th>\n",
       "      <th>1</th>\n",
       "      <th>2</th>\n",
       "      <th>3</th>\n",
       "      <th>4</th>\n",
       "      <th>5</th>\n",
       "      <th>6</th>\n",
       "      <th>7</th>\n",
       "    </tr>\n",
       "  </thead>\n",
       "  <tbody>\n",
       "    <tr>\n",
       "      <th>18237</th>\n",
       "      <td>Casual</td>\n",
       "      <td>Georgette</td>\n",
       "      <td>High-low</td>\n",
       "      <td>Full Sleeve</td>\n",
       "      <td>Printed</td>\n",
       "      <td>Shirt Collar</td>\n",
       "      <td></td>\n",
       "      <td></td>\n",
       "    </tr>\n",
       "    <tr>\n",
       "      <th>18238</th>\n",
       "      <td>Casual</td>\n",
       "      <td>Georgette</td>\n",
       "      <td>High-low</td>\n",
       "      <td>Full Sleeve</td>\n",
       "      <td>Printed</td>\n",
       "      <td>Shirt Collar</td>\n",
       "      <td></td>\n",
       "      <td></td>\n",
       "    </tr>\n",
       "    <tr>\n",
       "      <th>18239</th>\n",
       "      <td>Casual</td>\n",
       "      <td>Cotton</td>\n",
       "      <td>3/4th Sleeve</td>\n",
       "      <td>Solid</td>\n",
       "      <td></td>\n",
       "      <td></td>\n",
       "      <td></td>\n",
       "      <td></td>\n",
       "    </tr>\n",
       "    <tr>\n",
       "      <th>18240</th>\n",
       "      <td>Casual</td>\n",
       "      <td>Cotton</td>\n",
       "      <td>3/4th Sleeve</td>\n",
       "      <td>Solid</td>\n",
       "      <td></td>\n",
       "      <td></td>\n",
       "      <td></td>\n",
       "      <td></td>\n",
       "    </tr>\n",
       "    <tr>\n",
       "      <th>18241</th>\n",
       "      <td>Casual</td>\n",
       "      <td>Cotton</td>\n",
       "      <td>3/4th Sleeve</td>\n",
       "      <td>Solid</td>\n",
       "      <td></td>\n",
       "      <td></td>\n",
       "      <td></td>\n",
       "      <td></td>\n",
       "    </tr>\n",
       "  </tbody>\n",
       "</table>\n",
       "</div>"
      ],
      "text/plain": [
       "            0                                                                 \n",
       "match       0          1             2            3        4             5 6 7\n",
       "18237  Casual  Georgette      High-low  Full Sleeve  Printed  Shirt Collar    \n",
       "18238  Casual  Georgette      High-low  Full Sleeve  Printed  Shirt Collar    \n",
       "18239  Casual     Cotton  3/4th Sleeve        Solid                           \n",
       "18240  Casual     Cotton  3/4th Sleeve        Solid                           \n",
       "18241  Casual     Cotton  3/4th Sleeve        Solid                           "
      ]
     },
     "execution_count": 19,
     "metadata": {},
     "output_type": "execute_result"
    }
   ],
   "source": [
    "key_df.head()"
   ]
  },
  {
   "cell_type": "code",
   "execution_count": 20,
   "metadata": {},
   "outputs": [
    {
     "data": {
      "text/plain": [
       "18237     Casual Georgette High-low Full Sleeve Printed...\n",
       "18238     Casual Georgette High-low Full Sleeve Printed...\n",
       "18239                 Casual Cotton 3/4th Sleeve Solid    \n",
       "18240                 Casual Cotton 3/4th Sleeve Solid    \n",
       "18241                 Casual Cotton 3/4th Sleeve Solid    \n",
       "Name: (0, 0), dtype: object"
      ]
     },
     "execution_count": 20,
     "metadata": {},
     "output_type": "execute_result"
    }
   ],
   "source": [
    "key_specs_text = ''\n",
    "for col in key_df.select_dtypes('object'):\n",
    "    key_specs_text += ' ' + key_df[col]\n",
    "key_specs_text.iloc[:5]"
   ]
  },
  {
   "cell_type": "code",
   "execution_count": 21,
   "metadata": {},
   "outputs": [],
   "source": [
    "df['key_specs_text'] = key_specs_text.str.strip()"
   ]
  },
  {
   "cell_type": "code",
   "execution_count": 22,
   "metadata": {},
   "outputs": [
    {
     "data": {
      "text/plain": [
       "3444"
      ]
     },
     "execution_count": 22,
     "metadata": {},
     "output_type": "execute_result"
    }
   ],
   "source": [
    "df.productBrand.nunique()"
   ]
  },
  {
   "cell_type": "code",
   "execution_count": 23,
   "metadata": {},
   "outputs": [
    {
     "data": {
      "text/plain": [
       "array(['Vea Kupia', 'U&F', 'Taurus', 'R Factor', 'Bohemian You', 'Elle',\n",
       "       'Moda Vastra', 'India House', 'Highness Nyc', 'East West'],\n",
       "      dtype=object)"
      ]
     },
     "execution_count": 23,
     "metadata": {},
     "output_type": "execute_result"
    }
   ],
   "source": [
    "df.productBrand.unique()[:10]"
   ]
  },
  {
   "cell_type": "markdown",
   "metadata": {},
   "source": [
    "With Further Analysis in the csv files, there seems to be few typos in the `productBrand` column. The following changes are solely based on intuition."
   ]
  },
  {
   "cell_type": "code",
   "execution_count": 24,
   "metadata": {},
   "outputs": [],
   "source": [
    "df['productBrand'] = df['productBrand'].replace({'Again? Vintage':'Again Vintage', '109°F': '109F', '20Dresses': '20 Dresses',\n",
    "                                                '99Affair': '99 Affair', 'AKFASHION':'AK Fashion',\n",
    "                                                'AVFASHION': 'AV Fashions', 'Adidas Originals': 'Adidas',\n",
    "                                                'AltoModa by Pantaloons': 'Alto Moda by Pantaloons',\n",
    "                                                'Being Human Clothing': 'Being Human',\n",
    "                                                'ELYWOMEN': 'ELYwomen', 'F Fashionstylus': 'F Fashion Stylus',\n",
    "                                                'IraSoleil': 'Ira Soleil', 'STYLESLAND': 'STYLES LAND',\n",
    "                                               'SassyStripes': 'Sassy Stripes', 'Sassystripes': 'Sassy Stripes',\n",
    "                                               'Sportelle USA  India':'Sportelle USA India',\n",
    "                                               'Style Quotient by Noi': 'Style Quotient By Noi',\n",
    "                                               'Superdry': 'Super Dry', 'YouthenX': 'Youthen', 'ZOEFEMME':'ZOE FEMME'})"
   ]
  },
  {
   "cell_type": "code",
   "execution_count": 25,
   "metadata": {},
   "outputs": [
    {
     "data": {
      "text/plain": [
       "26"
      ]
     },
     "execution_count": 25,
     "metadata": {},
     "output_type": "execute_result"
    }
   ],
   "source": [
    "df.categories.nunique()"
   ]
  },
  {
   "cell_type": "code",
   "execution_count": 26,
   "metadata": {},
   "outputs": [
    {
     "data": {
      "text/plain": [
       "array(['Apparels>Women>Western Wear>Shirts, Tops & Tunics>Tunics',\n",
       "       'Apparels>Women>Fusion Wear>Shirts, Tops & Tunics>Tunics',\n",
       "       'Apparels>Women>Maternity Wear>Shirts, Tops & Tunics>Tunics',\n",
       "       'Apparels>Women>Western Wear>Shirts, Tops & Tunics>Polos & T-Shirts',\n",
       "       'Apparels>Women>Fusion Wear>Shirts, Tops & Tunics>Polos & T-Shirts',\n",
       "       'Apparels>Kids>Girls>T-Shirts & Tops>T-Shirts',\n",
       "       'Apparels>Women>Western Wear>Shirts, Tops & Tunics>Shirts',\n",
       "       'Apparels>Women>Winter & Seasonal Wear>Thermals>Thermal Tops',\n",
       "       'Apparels>Women>Western Wear>Shirts, Tops & Tunics>Tops',\n",
       "       'Apparels>Women>Fusion Wear>Shirts, Tops & Tunics>Tops',\n",
       "       'Apparels>Women>Fusion Wear>Shirts, Tops & Tunics>Shirts',\n",
       "       'Apparels>Women>Maternity Wear>Shirts, Tops & Tunics>Shirts',\n",
       "       'Apparels>Women>Western Wear>Shirts, Tops & Tunics>Kaftans',\n",
       "       'Apparels>Women>Maternity Wear>Shirts, Tops & Tunics>Tops',\n",
       "       'Apparels>Women>Sports & Gym Wear>Track Tops',\n",
       "       'Apparels>Women>Fusion Wear>Shirts, Tops & Tunics>Polos & T-Shirts (OLD)',\n",
       "       'Apparels>Kids>Girls>T-Shirts & Tops>Kaftans',\n",
       "       'Apparels>Kids>Girls>T-Shirts & Tops>Tops',\n",
       "       'Apparels>Kids>Girls>T-Shirts & Tops>Tunics',\n",
       "       'Apparels>Kids>Infants>Baby Girls>T-Shirts & Tops>Tops',\n",
       "       'Apparels>Men>Sportswear>Track Tops',\n",
       "       'Apparels>Women>Western Wear>Shirts, Tops & Tunics>Bodysuits',\n",
       "       'Apparels>Women>Maternity Wear>Shirts, Tops & Tunics>Kaftans',\n",
       "       'Apparels>Women>Winter & Seasonal Wear>Top',\n",
       "       'Apparels>Men>Winterwear & Seasonalwear>Thermal Tops',\n",
       "       'Apparels>Kids>Girls>T-Shirts & Tops>Shrugs'], dtype=object)"
      ]
     },
     "execution_count": 26,
     "metadata": {},
     "output_type": "execute_result"
    }
   ],
   "source": [
    "df.categories.unique()"
   ]
  },
  {
   "cell_type": "markdown",
   "metadata": {},
   "source": [
    "Let's extract the last subcategory(Thermal Tops, Shrugs, etc..) and the gender category(Kids, Women, Men)"
   ]
  },
  {
   "cell_type": "code",
   "execution_count": 27,
   "metadata": {},
   "outputs": [],
   "source": [
    "df['sub_category1'] = df.categories.str.split('>').str[1]\n",
    "df['sub_category2'] = df.categories.str.split('>').str[-1]\n"
   ]
  },
  {
   "cell_type": "code",
   "execution_count": 28,
   "metadata": {},
   "outputs": [
    {
     "data": {
      "text/plain": [
       "array(['Women', 'Kids', 'Men'], dtype=object)"
      ]
     },
     "execution_count": 28,
     "metadata": {},
     "output_type": "execute_result"
    }
   ],
   "source": [
    "df.sub_category1.unique()"
   ]
  },
  {
   "cell_type": "code",
   "execution_count": 29,
   "metadata": {},
   "outputs": [
    {
     "data": {
      "text/plain": [
       "array(['Tunics', 'Polos & T-Shirts', 'T-Shirts', 'Shirts', 'Thermal Tops',\n",
       "       'Tops', 'Kaftans', 'Track Tops', 'Polos & T-Shirts (OLD)',\n",
       "       'Bodysuits', 'Top', 'Shrugs'], dtype=object)"
      ]
     },
     "execution_count": 29,
     "metadata": {},
     "output_type": "execute_result"
    }
   ],
   "source": [
    "df.sub_category2.unique()"
   ]
  },
  {
   "cell_type": "markdown",
   "metadata": {},
   "source": [
    "Encoding these Categories "
   ]
  },
  {
   "cell_type": "code",
   "execution_count": 30,
   "metadata": {},
   "outputs": [
    {
     "data": {
      "text/plain": [
       "{'Women': 1, 'Kids': 2, 'Men': 3}"
      ]
     },
     "execution_count": 30,
     "metadata": {},
     "output_type": "execute_result"
    }
   ],
   "source": [
    "cat_dict = {'Women':1, 'Kids':2, 'Men': 3}\n",
    "cat_dict"
   ]
  },
  {
   "cell_type": "code",
   "execution_count": 31,
   "metadata": {},
   "outputs": [
    {
     "data": {
      "text/plain": [
       "{'Tunics': 1,\n",
       " 'Polos & T-Shirts': 2,\n",
       " 'T-Shirts': 3,\n",
       " 'Shirts': 4,\n",
       " 'Thermal Tops': 5,\n",
       " 'Tops': 6,\n",
       " 'Kaftans': 7,\n",
       " 'Track Tops': 8,\n",
       " 'Polos & T-Shirts (OLD)': 9,\n",
       " 'Bodysuits': 10,\n",
       " 'Top': 11,\n",
       " 'Shrugs': 12}"
      ]
     },
     "execution_count": 31,
     "metadata": {},
     "output_type": "execute_result"
    }
   ],
   "source": [
    "#encoding category2\n",
    "cat2_dict = {v:i  for i, v in enumerate(df.sub_category2.unique(), 1)}\n",
    "cat2_dict"
   ]
  },
  {
   "cell_type": "code",
   "execution_count": 32,
   "metadata": {},
   "outputs": [],
   "source": [
    "df['sub_category2'] = df['sub_category2'].map(cat2_dict)\n",
    "df['sub_category1'] = df['sub_category1'].map(cat_dict)\n"
   ]
  },
  {
   "cell_type": "code",
   "execution_count": 33,
   "metadata": {},
   "outputs": [
    {
     "data": {
      "text/plain": [
       "14.0"
      ]
     },
     "execution_count": 33,
     "metadata": {},
     "output_type": "execute_result"
    }
   ],
   "source": [
    "#Count maximum urls in a row\n",
    "df.imageUrlStr.str.count(';').max()+1"
   ]
  },
  {
   "cell_type": "code",
   "execution_count": 34,
   "metadata": {},
   "outputs": [
    {
     "data": {
      "text/plain": [
       "array(['http://img.fkcdn.com/image/tunic/b/f/y/1-1-3422-vea-kupia-s-original-imae7sr4t7unbrwz.jpeg;http://img.fkcdn.com/image/tunic/b/f/y/1-1-3422-vea-kupia-s-200x200-imae7sr4t7unbrwz.jpeg;http://img.fkcdn.com/image/tunic/b/f/y/1-1-3422-vea-kupia-s-400x400-imae7sr4t7unbrwz.jpeg;http://img.fkcdn.com/image/tunic/b/f/y/1-1-3422-vea-kupia-s-800x800-imae7sr4t7unbrwz.jpeg',\n",
       "       'http://img.fkcdn.com/image/tunic/n/b/u/14193-2-u-f-m-original-imaeymtcqatbrpgm.jpeg;http://img.fkcdn.com/image/tunic/n/b/u/14193-2-u-f-m-200x200-imaeymtcqatbrpgm.jpeg;http://img.fkcdn.com/image/tunic/n/b/u/14193-2-u-f-m-400x400-imaeymtcqatbrpgm.jpeg;http://img.fkcdn.com/image/tunic/n/b/u/14193-2-u-f-m-800x800-imaeymtcqatbrpgm.jpeg',\n",
       "       'http://img.fkcdn.com/image/tunic/h/f/j/14190-6-u-f-s-original-imaeymtcdrfczvaw.jpeg;http://img.fkcdn.com/image/tunic/h/f/j/14190-6-u-f-s-200x200-imaeymtcdrfczvaw.jpeg;http://img.fkcdn.com/image/tunic/h/f/j/14190-6-u-f-s-400x400-imaeymtcdrfczvaw.jpeg;http://img.fkcdn.com/image/tunic/h/f/j/14190-6-u-f-s-800x800-imaeymtcdrfczvaw.jpeg',\n",
       "       'http://img.fkcdn.com/image/tunic/f/7/x/ftp-1450-pr1-xl-taurus-xl-original-imaeyhm4rvfrgnzp.jpeg;http://img.fkcdn.com/image/tunic/f/7/x/ftp-1450-pr1-xl-taurus-xl-200x200-imaeyhm4rvfrgnzp.jpeg;http://img.fkcdn.com/image/tunic/f/7/x/ftp-1450-pr1-xl-taurus-xl-400x400-imaeyhm4rvfrgnzp.jpeg;http://img.fkcdn.com/image/tunic/f/7/x/ftp-1450-pr1-xl-taurus-xl-800x800-imaeyhm4rvfrgnzp.jpeg',\n",
       "       'http://img.fkcdn.com/image/tunic/n/y/u/1-1-awtop-026-r-factor-m-original-imae8tkkhbgsdhpz.jpeg;http://img.fkcdn.com/image/tunic/n/y/u/1-1-awtop-026-r-factor-m-200x200-imae8tkkhbgsdhpz.jpeg;http://img.fkcdn.com/image/tunic/n/y/u/1-1-awtop-026-r-factor-m-400x400-imae8tkkhbgsdhpz.jpeg;http://img.fkcdn.com/image/tunic/n/y/u/1-1-awtop-026-r-factor-m-800x800-imae8tkkhbgsdhpz.jpeg'],\n",
       "      dtype=object)"
      ]
     },
     "execution_count": 34,
     "metadata": {},
     "output_type": "execute_result"
    }
   ],
   "source": [
    "df.imageUrlStr.unique()[:5]"
   ]
  },
  {
   "cell_type": "code",
   "execution_count": 35,
   "metadata": {},
   "outputs": [],
   "source": [
    "#extracting only the first URL\n",
    "df['imageUrl'] = df.imageUrlStr.str.split(';').str[0]"
   ]
  },
  {
   "cell_type": "code",
   "execution_count": 36,
   "metadata": {},
   "outputs": [
    {
     "data": {
      "text/plain": [
       "(347713, 31)"
      ]
     },
     "execution_count": 36,
     "metadata": {},
     "output_type": "execute_result"
    }
   ],
   "source": [
    "#Considering only subcategory tops. Top and Tops are considered the same category\n",
    "df = df[df['sub_category2'].isin([6, 11])]\n",
    "df.shape"
   ]
  },
  {
   "cell_type": "code",
   "execution_count": 37,
   "metadata": {},
   "outputs": [],
   "source": [
    "df.to_csv('Only Tops Data.csv', index = False)"
   ]
  },
  {
   "cell_type": "code",
   "execution_count": 108,
   "metadata": {},
   "outputs": [
    {
     "data": {
      "text/plain": [
       "259728"
      ]
     },
     "execution_count": 108,
     "metadata": {},
     "output_type": "execute_result"
    }
   ],
   "source": [
    "df['imageUrl'].duplicated().sum()"
   ]
  },
  {
   "cell_type": "markdown",
   "metadata": {},
   "source": [
    "As per the definition, two products are duplicate if they have the same image! Let's find the productIds of these duplicate images"
   ]
  },
  {
   "cell_type": "code",
   "execution_count": 109,
   "metadata": {},
   "outputs": [
    {
     "data": {
      "text/html": [
       "<div>\n",
       "<style scoped>\n",
       "    .dataframe tbody tr th:only-of-type {\n",
       "        vertical-align: middle;\n",
       "    }\n",
       "\n",
       "    .dataframe tbody tr th {\n",
       "        vertical-align: top;\n",
       "    }\n",
       "\n",
       "    .dataframe thead th {\n",
       "        text-align: right;\n",
       "    }\n",
       "</style>\n",
       "<table border=\"1\" class=\"dataframe\">\n",
       "  <thead>\n",
       "    <tr style=\"text-align: right;\">\n",
       "      <th></th>\n",
       "      <th>imageUrl</th>\n",
       "      <th>dup_idx</th>\n",
       "    </tr>\n",
       "  </thead>\n",
       "  <tbody>\n",
       "    <tr>\n",
       "      <th>0</th>\n",
       "      <td>http://img.fkcdn.com/image/apparels-combo/2/f/...</td>\n",
       "      <td>(TOPEG4YDVT9WX6FB, TOPEG4YD3FK3BFSF, TOPEG4YDY...</td>\n",
       "    </tr>\n",
       "    <tr>\n",
       "      <th>1</th>\n",
       "      <td>http://img.fkcdn.com/image/apparels-combo/3/s/...</td>\n",
       "      <td>(TOPEDBEXXFA89JWG,)</td>\n",
       "    </tr>\n",
       "    <tr>\n",
       "      <th>2</th>\n",
       "      <td>http://img.fkcdn.com/image/apparels-combo/6/r/...</td>\n",
       "      <td>(TOPEGSUWZRYGNVPS, TOPEGSUW67FUGTQS, TOPEGSUWF...</td>\n",
       "    </tr>\n",
       "    <tr>\n",
       "      <th>3</th>\n",
       "      <td>http://img.fkcdn.com/image/apparels-combo/b/a/...</td>\n",
       "      <td>(TOPEG4YDYDNYUVGE, TOPEG4YDFJUTPGZD, TOPEG4YD4...</td>\n",
       "    </tr>\n",
       "    <tr>\n",
       "      <th>4</th>\n",
       "      <td>http://img.fkcdn.com/image/apparels-combo/c/g/...</td>\n",
       "      <td>(TOPEAZU6K7UGGHYH, TOPEAZU6TBXZNAUX, TOPEAZU6Y...</td>\n",
       "    </tr>\n",
       "  </tbody>\n",
       "</table>\n",
       "</div>"
      ],
      "text/plain": [
       "                                            imageUrl  \\\n",
       "0  http://img.fkcdn.com/image/apparels-combo/2/f/...   \n",
       "1  http://img.fkcdn.com/image/apparels-combo/3/s/...   \n",
       "2  http://img.fkcdn.com/image/apparels-combo/6/r/...   \n",
       "3  http://img.fkcdn.com/image/apparels-combo/b/a/...   \n",
       "4  http://img.fkcdn.com/image/apparels-combo/c/g/...   \n",
       "\n",
       "                                             dup_idx  \n",
       "0  (TOPEG4YDVT9WX6FB, TOPEG4YD3FK3BFSF, TOPEG4YDY...  \n",
       "1                                (TOPEDBEXXFA89JWG,)  \n",
       "2  (TOPEGSUWZRYGNVPS, TOPEGSUW67FUGTQS, TOPEGSUWF...  \n",
       "3  (TOPEG4YDYDNYUVGE, TOPEG4YDFJUTPGZD, TOPEG4YD4...  \n",
       "4  (TOPEAZU6K7UGGHYH, TOPEAZU6TBXZNAUX, TOPEAZU6Y...  "
      ]
     },
     "execution_count": 109,
     "metadata": {},
     "output_type": "execute_result"
    }
   ],
   "source": [
    "df1 = (df.groupby('imageUrl')\n",
    "       .apply(lambda x: tuple(x.productId))\n",
    "       .reset_index(name='dup_idx'))\n",
    "df1.head()"
   ]
  },
  {
   "cell_type": "code",
   "execution_count": 66,
   "metadata": {},
   "outputs": [],
   "source": [
    "duplicate_products = {value[0]: list(value[1:]) for value in df1.dup_idx}\n"
   ]
  },
  {
   "cell_type": "code",
   "execution_count": 67,
   "metadata": {},
   "outputs": [
    {
     "data": {
      "text/plain": [
       "['TOPEG4YD3FK3BFSF', 'TOPEG4YDYQRQTGVX', 'TOPEG4YDVSHHYFWD']"
      ]
     },
     "execution_count": 67,
     "metadata": {},
     "output_type": "execute_result"
    }
   ],
   "source": [
    "duplicate_products['TOPEG4YDVT9WX6FB']"
   ]
  },
  {
   "cell_type": "code",
   "execution_count": 110,
   "metadata": {},
   "outputs": [
    {
     "data": {
      "text/plain": [
       "['http://img.fkcdn.com/image/apparels-combo/2/f/a/ru-5116-5120-ruhaan-s-original-imaeg3szjzepcmwz.jpeg',\n",
       " 'http://img.fkcdn.com/image/apparels-combo/2/f/a/ru-5116-5120-ruhaan-s-original-imaeg3szjzepcmwz.jpeg',\n",
       " 'http://img.fkcdn.com/image/apparels-combo/2/f/a/ru-5116-5120-ruhaan-s-original-imaeg3szjzepcmwz.jpeg']"
      ]
     },
     "execution_count": 110,
     "metadata": {},
     "output_type": "execute_result"
    }
   ],
   "source": [
    "df[df.productId.isin(duplicate_products['TOPEG4YDVT9WX6FB'])]['imageUrl'].tolist()"
   ]
  },
  {
   "cell_type": "markdown",
   "metadata": {},
   "source": [
    "Let's save the file in a pickle. This will be combined with future results."
   ]
  },
  {
   "cell_type": "code",
   "execution_count": 124,
   "metadata": {},
   "outputs": [],
   "source": [
    "import pickle\n",
    "with open('duplicates.pickle', 'wb') as f:\n",
    "    pickle.dump(duplicate_products, f)"
   ]
  },
  {
   "cell_type": "markdown",
   "metadata": {},
   "source": [
    "They have the same URL, hence the same image and therfore same product. Now we can drop these duplicate imageUrl rows."
   ]
  },
  {
   "cell_type": "code",
   "execution_count": 111,
   "metadata": {},
   "outputs": [
    {
     "data": {
      "text/plain": [
       "(87985, 30)"
      ]
     },
     "execution_count": 111,
     "metadata": {},
     "output_type": "execute_result"
    }
   ],
   "source": [
    "df = df.drop_duplicates(subset='imageUrl')\n",
    "df.shape"
   ]
  },
  {
   "cell_type": "code",
   "execution_count": 112,
   "metadata": {},
   "outputs": [
    {
     "data": {
      "text/plain": [
       "['http://dl.flipkart.com/dl/citrine-casual-short-sleeve-printed-women-s-pink-white-top/p/itmenvftgmhgdu83?pid=TOPE9ABBZU3HZRHN',\n",
       " 'http://dl.flipkart.com/dl/leelan-casual-short-sleeve-solid-women-s-black-top/p/itme9azp85xahk6g?pid=TOPE9AZZSMSZFYAM']"
      ]
     },
     "execution_count": 112,
     "metadata": {},
     "output_type": "execute_result"
    }
   ],
   "source": [
    "df.iloc[:2]['productUrl'].values.tolist()"
   ]
  },
  {
   "cell_type": "markdown",
   "metadata": {},
   "source": [
    "This only has the link to the product page and doesn't add any useful information"
   ]
  },
  {
   "cell_type": "markdown",
   "metadata": {},
   "source": [
    "### Dropping Unimportant columns"
   ]
  },
  {
   "cell_type": "markdown",
   "metadata": {},
   "source": [
    "- **Columns Related to the Seller**: These don't add any useful information about the **product**. These include : shippingCharges, deliveryTime, sellerAverageRating, sellerNoOfRatings, sellerName, sellerNoOfReviews\n",
    "- **Redundant Columns**: The relevant data has already been extracted above. These incluse: categories, imageUrlStr, sleeve, neck, detailedSpecsStr, sub_category2(Top and Tops are assumed to be the same category)\n",
    "- **Other Unimportant Column**: These are expected to vary for the same and hence shouldn't be used. These include: size, sizeUnit, inStock, productUrl, discount, productFamily"
   ]
  },
  {
   "cell_type": "code",
   "execution_count": 113,
   "metadata": {},
   "outputs": [],
   "source": [
    "delete_columns = ['size', 'sizeUnit', 'inStock','productUrl', 'shippingCharges', 'deliveryTime',\n",
    "                  'sellerAverageRating', 'sellerNoOfRatings','sellerName', \n",
    "                  'sellerNoOfReviews', 'codAvailable', 'detailedSpecsStr', 'neck',\n",
    "                 'discount', 'productUrl', 'discount', 'categories', 'imageUrlStr', 'sleeve', 'sub_category2',\n",
    "                 'productFamily']\n",
    "\n",
    "df = df.drop(columns=delete_columns)"
   ]
  },
  {
   "cell_type": "code",
   "execution_count": 118,
   "metadata": {},
   "outputs": [
    {
     "data": {
      "text/plain": [
       "(87983, 11)"
      ]
     },
     "execution_count": 118,
     "metadata": {},
     "output_type": "execute_result"
    }
   ],
   "source": [
    "df.shape"
   ]
  },
  {
   "cell_type": "code",
   "execution_count": 115,
   "metadata": {},
   "outputs": [
    {
     "data": {
      "text/plain": [
       "2"
      ]
     },
     "execution_count": 115,
     "metadata": {},
     "output_type": "execute_result"
    }
   ],
   "source": [
    "df.productId.duplicated().sum()"
   ]
  },
  {
   "cell_type": "code",
   "execution_count": null,
   "metadata": {},
   "outputs": [],
   "source": [
    "df=df.drop_duplicates(subset='productId')"
   ]
  },
  {
   "cell_type": "code",
   "execution_count": 132,
   "metadata": {},
   "outputs": [
    {
     "data": {
      "text/plain": [
       "Index(['productId', 'title', 'description', 'mrp', 'sellingPrice',\n",
       "       'specialPrice', 'productBrand', 'color', 'keySpecsStr', 'sub_category1',\n",
       "       'imageUrl', 'key_specs_text'],\n",
       "      dtype='object')"
      ]
     },
     "execution_count": 132,
     "metadata": {},
     "output_type": "execute_result"
    }
   ],
   "source": [
    "df.columns"
   ]
  },
  {
   "cell_type": "code",
   "execution_count": 117,
   "metadata": {},
   "outputs": [
    {
     "data": {
      "text/html": [
       "<div>\n",
       "<style scoped>\n",
       "    .dataframe tbody tr th:only-of-type {\n",
       "        vertical-align: middle;\n",
       "    }\n",
       "\n",
       "    .dataframe tbody tr th {\n",
       "        vertical-align: top;\n",
       "    }\n",
       "\n",
       "    .dataframe thead th {\n",
       "        text-align: right;\n",
       "    }\n",
       "</style>\n",
       "<table border=\"1\" class=\"dataframe\">\n",
       "  <thead>\n",
       "    <tr style=\"text-align: right;\">\n",
       "      <th></th>\n",
       "      <th>productId</th>\n",
       "      <th>title</th>\n",
       "      <th>description</th>\n",
       "      <th>mrp</th>\n",
       "      <th>sellingPrice</th>\n",
       "      <th>specialPrice</th>\n",
       "      <th>productBrand</th>\n",
       "      <th>productFamily</th>\n",
       "      <th>color</th>\n",
       "      <th>keySpecsStr</th>\n",
       "      <th>sub_category1</th>\n",
       "      <th>imageUrl</th>\n",
       "    </tr>\n",
       "  </thead>\n",
       "  <tbody>\n",
       "    <tr>\n",
       "      <th>100759</th>\n",
       "      <td>TOPE9ABBZU3HZRHN</td>\n",
       "      <td>Citrine Casual Short Sleeve Printed Women's Pi...</td>\n",
       "      <td>This beautiful printed modal top from Citrine ...</td>\n",
       "      <td>1099.0</td>\n",
       "      <td>329.0</td>\n",
       "      <td>329.0</td>\n",
       "      <td>Citrine</td>\n",
       "      <td>TOPE9ABBBTJYDSQE,TOPE9ABBHJ8HGGGK,TOPE9ABBPDAN...</td>\n",
       "      <td>Pink, Off White</td>\n",
       "      <td>Round Neck, Short Sleeve;Fabric: Modal;Pattern...</td>\n",
       "      <td>1</td>\n",
       "      <td>http://img.fkcdn.com/image/top/r/h/n/1-1-wwtpw...</td>\n",
       "    </tr>\n",
       "    <tr>\n",
       "      <th>100761</th>\n",
       "      <td>TOPE9AZZSMSZFYAM</td>\n",
       "      <td>Leelan Casual Short Sleeve Solid Women's Black...</td>\n",
       "      <td>NaN</td>\n",
       "      <td>524.0</td>\n",
       "      <td>262.0</td>\n",
       "      <td>262.0</td>\n",
       "      <td>Leelan</td>\n",
       "      <td>TOPE9AZPDMGTYHKR,TOPE9AZPGGQ32HWG,TOPE9AZPJSS2...</td>\n",
       "      <td>Black</td>\n",
       "      <td>Round Neck, Short Sleeve;Fabric: Cotton;Patter...</td>\n",
       "      <td>1</td>\n",
       "      <td>http://img.fkcdn.com/image/top/y/a/m/1-1-10009...</td>\n",
       "    </tr>\n",
       "    <tr>\n",
       "      <th>100770</th>\n",
       "      <td>TOPE6ZCYFCQ3H6EV</td>\n",
       "      <td>Cottinfab Casual Sleeveless Solid Women's Purp...</td>\n",
       "      <td>Round neck, sleeveless stylish top with pack o...</td>\n",
       "      <td>1399.0</td>\n",
       "      <td>799.0</td>\n",
       "      <td>719.0</td>\n",
       "      <td>Cottinfab</td>\n",
       "      <td>TOPE6ZCYRR54GY6S,TOPE6ZCYYJZFZGQS,TOPE6ZCYYUGJ...</td>\n",
       "      <td>Purple</td>\n",
       "      <td>V-Neck, Sleeveless;Fabric: Knit;Pattern: Solid...</td>\n",
       "      <td>1</td>\n",
       "      <td>http://img.fkcdn.com/image/top/6/e/v/1-1-newds...</td>\n",
       "    </tr>\n",
       "    <tr>\n",
       "      <th>100773</th>\n",
       "      <td>TOPE6ZCYHTJEMZMW</td>\n",
       "      <td>Cottinfab Casual Sleeveless Solid Women's Purp...</td>\n",
       "      <td>V Neck with black net on front yoke, sleeveles...</td>\n",
       "      <td>799.0</td>\n",
       "      <td>249.0</td>\n",
       "      <td>224.0</td>\n",
       "      <td>Cottinfab</td>\n",
       "      <td>TOPE5K6B5DY95JP2,TOPE5K6B7JKVT2XJ,TOPE5K6BAFC5...</td>\n",
       "      <td>Purple</td>\n",
       "      <td>V-Neck, Sleeveless;Fabric: Knit;Pattern: Solid...</td>\n",
       "      <td>1</td>\n",
       "      <td>http://img.fkcdn.com/image/top/x/7/r/1-1-newds...</td>\n",
       "    </tr>\n",
       "    <tr>\n",
       "      <th>100790</th>\n",
       "      <td>TOPE6XZPUVT9C7RU</td>\n",
       "      <td>Butterfly Wears Casual Short Sleeve Solid Wome...</td>\n",
       "      <td>NaN</td>\n",
       "      <td>799.0</td>\n",
       "      <td>799.0</td>\n",
       "      <td>799.0</td>\n",
       "      <td>Butterfly Wears</td>\n",
       "      <td>TOPE6XZP6GKPSFWZ,TOPE6XZPJRNVSAQS,TOPE6XZPVF6H...</td>\n",
       "      <td>Multicolor</td>\n",
       "      <td>Round Neck, Short Sleeve;Fabric: Cotton;Patter...</td>\n",
       "      <td>1</td>\n",
       "      <td>http://img.fkcdn.com/image/top/y/h/c/5245-butt...</td>\n",
       "    </tr>\n",
       "  </tbody>\n",
       "</table>\n",
       "</div>"
      ],
      "text/plain": [
       "               productId                                              title  \\\n",
       "100759  TOPE9ABBZU3HZRHN  Citrine Casual Short Sleeve Printed Women's Pi...   \n",
       "100761  TOPE9AZZSMSZFYAM  Leelan Casual Short Sleeve Solid Women's Black...   \n",
       "100770  TOPE6ZCYFCQ3H6EV  Cottinfab Casual Sleeveless Solid Women's Purp...   \n",
       "100773  TOPE6ZCYHTJEMZMW  Cottinfab Casual Sleeveless Solid Women's Purp...   \n",
       "100790  TOPE6XZPUVT9C7RU  Butterfly Wears Casual Short Sleeve Solid Wome...   \n",
       "\n",
       "                                              description     mrp  \\\n",
       "100759  This beautiful printed modal top from Citrine ...  1099.0   \n",
       "100761                                                NaN   524.0   \n",
       "100770  Round neck, sleeveless stylish top with pack o...  1399.0   \n",
       "100773  V Neck with black net on front yoke, sleeveles...   799.0   \n",
       "100790                                                NaN   799.0   \n",
       "\n",
       "        sellingPrice  specialPrice     productBrand  \\\n",
       "100759         329.0         329.0          Citrine   \n",
       "100761         262.0         262.0           Leelan   \n",
       "100770         799.0         719.0        Cottinfab   \n",
       "100773         249.0         224.0        Cottinfab   \n",
       "100790         799.0         799.0  Butterfly Wears   \n",
       "\n",
       "                                            productFamily            color  \\\n",
       "100759  TOPE9ABBBTJYDSQE,TOPE9ABBHJ8HGGGK,TOPE9ABBPDAN...  Pink, Off White   \n",
       "100761  TOPE9AZPDMGTYHKR,TOPE9AZPGGQ32HWG,TOPE9AZPJSS2...            Black   \n",
       "100770  TOPE6ZCYRR54GY6S,TOPE6ZCYYJZFZGQS,TOPE6ZCYYUGJ...           Purple   \n",
       "100773  TOPE5K6B5DY95JP2,TOPE5K6B7JKVT2XJ,TOPE5K6BAFC5...           Purple   \n",
       "100790  TOPE6XZP6GKPSFWZ,TOPE6XZPJRNVSAQS,TOPE6XZPVF6H...       Multicolor   \n",
       "\n",
       "                                              keySpecsStr  sub_category1  \\\n",
       "100759  Round Neck, Short Sleeve;Fabric: Modal;Pattern...              1   \n",
       "100761  Round Neck, Short Sleeve;Fabric: Cotton;Patter...              1   \n",
       "100770  V-Neck, Sleeveless;Fabric: Knit;Pattern: Solid...              1   \n",
       "100773  V-Neck, Sleeveless;Fabric: Knit;Pattern: Solid...              1   \n",
       "100790  Round Neck, Short Sleeve;Fabric: Cotton;Patter...              1   \n",
       "\n",
       "                                                 imageUrl  \n",
       "100759  http://img.fkcdn.com/image/top/r/h/n/1-1-wwtpw...  \n",
       "100761  http://img.fkcdn.com/image/top/y/a/m/1-1-10009...  \n",
       "100770  http://img.fkcdn.com/image/top/6/e/v/1-1-newds...  \n",
       "100773  http://img.fkcdn.com/image/top/x/7/r/1-1-newds...  \n",
       "100790  http://img.fkcdn.com/image/top/y/h/c/5245-butt...  "
      ]
     },
     "execution_count": 117,
     "metadata": {},
     "output_type": "execute_result"
    }
   ],
   "source": [
    "df.head()"
   ]
  },
  {
   "cell_type": "markdown",
   "metadata": {},
   "source": [
    "This will be the data I will be working with to find other duplicate products"
   ]
  },
  {
   "cell_type": "code",
   "execution_count": 120,
   "metadata": {},
   "outputs": [],
   "source": [
    "df.to_csv('Final Data.csv', index=False)"
   ]
  },
  {
   "cell_type": "markdown",
   "metadata": {},
   "source": [
    "## Finding Duplicates using Locality Sensitive Hashing and Cosine Similarity"
   ]
  },
  {
   "cell_type": "markdown",
   "metadata": {},
   "source": [
    "### Locality Sensitive Hashing\n",
    "\n",
    "**Locality Sensitive Hasing**(LSH) is an **Approximation Algorithm.** Approximate algorithms can be used to find nearest neighbours in a data set. These algorithms don’t guarantee to give you the exact answer, but they provide a good approximation. These are **faster** and **scalable**. One application of LSH is to find duplicate documents, which is required for our use case.\n",
    "\n",
    "From [this article](https://towardsdatascience.com/understanding-locality-sensitive-hashing-49f6d1f6134):\n",
    "> LSH refers to a family of functions (known as LSH families) to hash data points into buckets so that data points near each other are located in the same buckets with high probability, while data points far from each other are likely to be in different buckets. This makes it easier to identify observations with various degrees of similarity.\n",
    "\n",
    "LSH returns **candidate pairs**. These pairs are likely to be similar.\n",
    "\n",
    "Steps in LSH:\n",
    "\n",
    "1. **Shingling**\n",
    "    - This converts each document into a set of k-grams or k-shingles. I have used **k=3**. Similar documents have similar shingles.\n",
    "    <img src='https://miro.medium.com/max/399/1*SYzH6iJ3Y-5kGbA4psnTDw.png' alt='Shingling Example' title='Documet Shingling Matrix'\n",
    "    width=\"100\" height=\"75\"/>\n",
    "    \n",
    "    - Uses Jaccard similarity to find similarity between metrics. It basically checks how many intersections are there between two sets over the union of two sets. More common shingles, higher Jaccard Similarity and higher probability of similar documents.\n",
    "    \n",
    "2. **Min Hashing**\n",
    "\n",
    "    - The document matrix, as shown above, is a sparse matrix and takes up unnecessary space. Hashing is used to convert each document to a signature. Min hashing is the hashing is the hashing function.\n",
    "    <img src='https://miro.medium.com/max/697/1*wkjgq-9UPR2rDjQ68bI9tg.png' alt='Signature Matrix' title='Signature Matrix'\n",
    "    width=\"300\" height=\"200\"/>\n",
    "    - To create a signature, a random index(permutation of numbers) is given to each row(shingles) of the document matrix. The hash function is the index of the first row(in the permuted order) in which a column C(representing documents). This is for one permutation. Perform multiple permutatatios to get a signature of a column.\n",
    "    > Higher the number of permutations, lower the error, the better the results. I have used 256 permutations.\n",
    "    - The similarity of the signature is the fraction of the min-hash funtions in which they agree. Similarity of two signatures is equal to similarity of the columns. \n",
    "    > Signature Similarity is a proxy for Jaccard Similarity.\n",
    "    - Doing this step, solves the space complexity problem.\n",
    "    \n",
    "3. **Locality Sensitive Hashing**:\n",
    "\n",
    "    - Find documents with Jaccard similarity of at least t from signature matrix\n",
    "    \n",
    "I have used LSH to find the similarity between the text data of products. This is used to filter the products whose images will be compared for similarity."
   ]
  },
  {
   "cell_type": "markdown",
   "metadata": {},
   "source": [
    "### Cosine Similarity\n",
    "\n",
    "Each Vector, eg: a = $[1, 2, 3]^{T}$, can be projected to a coordinate system of dimensionality equal to the length of the vector. Each element in the vector belongs to a certain dimensionality. If two vectors have similar directions(orientation), they are considered similar. \n",
    "\n",
    "The cosine similarity between two vectors is a measure that calculates the cosine of the angle between them. This metric is a measurement of orientation.\n",
    "\n",
    "I have used cosine similarity to find the similarity between images. Feature vectors of the images are extracted and compared."
   ]
  },
  {
   "cell_type": "markdown",
   "metadata": {},
   "source": [
    "### Algorithm used to find Duplicate Products\n",
    "\n",
    "Below are the steps of the algorithm:\n",
    "\n",
    "1. Groupby the `productBrand` and `sub_category1`(Women, kids etc).\n",
    "    - Although most data in the `sub_category1` is of one category in the final `df`, it's more efficient and intuitive to compare data related to women products with other women products only.\n",
    "    - If we were processing the entire data set that is provided, then it'd be better to group by `productBrand`, `sub_category1` and `sub_category2`(shrubs, tunips, etc.).\n",
    "    \n",
    "2. Each group's `keySpecsStr`, `description` and `title` is concatenated into a single column `full_text`. \n",
    "\n",
    "3. From the `full_text` column, 5 most frequent words(from the entire column) are removed from each row, if they are present.\n",
    "    - This is important as to remove redundancy from the data and only input unique words of row to find duplicate/similar text.\n",
    "    \n",
    "4. Apply the **LSH** to `full_text` column. Each row of `full_text` is the input with the productId as the key.\n",
    "    - To obtain the results, input a productId and a list of productIds are returned.\n",
    "    - This step will filter out irrelevant images to compare with for a product resulting in decreased computation time.\n",
    "    \n",
    "5. For each key and its results from LSH, the images are compared and a dictionary is built with key as one productID and values are the duplicate productIDs of the key.\n",
    "    - The final result will be the Ids that satisfy a certain threshold on **cosine_similarity**.\n",
    "    - The images are converted to **grayscale**.\n",
    "        - It's important to only consider the grayscale of the images as same products can have different colors. Grayscaling will remove the color difference between same products.\n",
    "    - The features are extracted from the images using VGG19 network.\n",
    "\n",
    "\n",
    "The threshold for LSH to find similar document is 0.9 and the threshold of cosine similarity for images if 0.45.\n",
    "\n",
    "Reference to the [notebook](Source Code Explanation.ipynb) and [html](Source Code Explanation.html) of the main code."
   ]
  },
  {
   "cell_type": "markdown",
   "metadata": {},
   "source": [
    "## Results\n",
    "\n",
    "Considering that the definition of duplicates is having same/similar images, the results are promising. The testing was done by creating few utility functions, that when provided with a productID, prints a urls of duplicate ids. [Click here](Evaluation.ipynb) or [here](Evaluation.html)(html) to check the function.\n",
    "\n",
    "### Summarizing results:\n",
    "\n",
    "- The overall designs of duplicate images are same or similar. For example: all sleeveless tops will be clustered together.\n",
    "- Different colored clothes that belong to same product/clothing are also clustered together.\n",
    "\n",
    "**Scope for improvement**: There can be further improvement to distinguish between the prints and patterns of the clothing. For example: The outline might be similar but, the prints or text on the clothing could be different. "
   ]
  },
  {
   "cell_type": "markdown",
   "metadata": {},
   "source": [
    "## Further Improvements\n",
    "\n",
    "- A more sophisticated method to extract features from the images could be used. For example, the features of only the tops should be extracted, but in this method the entire image feature is extracted, which includes the pose of the model. This just adds noise to our vectors.\n",
    "- Different shingle lengths and permutations could be used for LSH\n",
    "- There can be further improvement to distinguish between the prints and patterns of the clothing. For example: The outline might be similar but, the prints or text on the clothing could be different. "
   ]
  },
  {
   "cell_type": "markdown",
   "metadata": {},
   "source": [
    "## References"
   ]
  },
  {
   "cell_type": "markdown",
   "metadata": {},
   "source": [
    "[Cosine Similarity](http://blog.christianperone.com/2013/09/machine-learning-cosine-similarity-for-vector-space-models-part-iii/)\n",
    "\n",
    "[Locality Sensitive Hashing](https://towardsdatascience.com/understanding-locality-sensitive-hashing-49f6d1f6134)\n",
    "\n",
    "[Understanding Duplicate Detection in Ecommerce](https://medium.com/walmartlabs/product-matching-in-ecommerce-4f19b6aebaca)"
   ]
  }
 ],
 "metadata": {
  "kernelspec": {
   "display_name": "Python 3",
   "language": "python",
   "name": "python3"
  },
  "language_info": {
   "codemirror_mode": {
    "name": "ipython",
    "version": 3
   },
   "file_extension": ".py",
   "mimetype": "text/x-python",
   "name": "python",
   "nbconvert_exporter": "python",
   "pygments_lexer": "ipython3",
   "version": "3.6.5"
  }
 },
 "nbformat": 4,
 "nbformat_minor": 2
}
